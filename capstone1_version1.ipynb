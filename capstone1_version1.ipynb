{
 "cells": [
  {
   "cell_type": "markdown",
   "metadata": {},
   "source": [
    "Analytical Capstone\n",
    "\n",
    "Questions I am trying to answer:\n",
    "\n",
    "1.\tHow does labor force education impacted employment and unemployment in agriculture, industry and services sectors of economy     in USA?  This will include years from 1994 to 2017. \n",
    "2.\tHas there been an increase in advanced education in the labor force and has this lead to more workers in the service sector     of the economy of USA?\n",
    "\n",
    "Data\n",
    "\n",
    "1.\tI will be using datasets from the World Data Indicator. \n",
    "\n",
    "File Download: http://databank.worldbank.org/data/download/WDI_csv.zip\n",
    "2.\tThe following Indicators from the dataset will be used:\n",
    "\n",
    "Indicator Name\n",
    "Employment in agriculture (% of total employment) (modeled ILO estimate)\n",
    "Employment in industry (% of total employment) (modeled ILO estimate)\n",
    "Employment in services (% of total employment) (modeled ILO estimate)\n",
    "Labor force with advanced education (% of total working-age population with advanced education)\n",
    "Labor force with basic education (% of total working-age population with basic education)\n",
    "Labor force with intermediate education (% of total working-age population with intermediate education)\n",
    "Unemployment with advanced education (% of total labor force with advanced education)\n",
    "Unemployment with basic education (% of total labor force with basic education)\n",
    "Unemployment with intermediate education (% of total labor force with intermediate education)\n",
    "Unemployment, total (% of total labor force) (modeled ILO estimate)\n",
    "Unemployment, total (% of total labor force) (national estimate)\n",
    "\n",
    "Minimum Viable Product\n",
    "\n",
    "1.\tDetermine the relationship between education in the labor force and it’s impact on employment in the 3 sectors of the           economy.\n",
    "2.\tDetermine the impact of labor force education and unemployment in the 3 sectors of the economy\n",
    "\t\t\n",
    "\n",
    "\t\n"
   ]
  },
  {
   "cell_type": "code",
   "execution_count": 1,
   "metadata": {},
   "outputs": [],
   "source": [
    "import pandas as pd\n",
    "from pandas.plotting import scatter_matrix\n",
    "import psycopg2\n",
    "from contextlib import closing\n",
    "import matplotlib.pyplot as plt\n",
    "from sklearn.linear_model import LinearRegression\n",
    "from sklearn.model_selection import train_test_split\n",
    "from sklearn.metrics import mean_squared_error\n",
    "from sklearn import preprocessing\n",
    "from sklearn.preprocessing import MinMaxScaler\n",
    "from math import sqrt\n",
    "import statsmodels.api as sm\n",
    "import scipy.stats as stats\n",
    "import numpy as np"
   ]
  },
  {
   "cell_type": "code",
   "execution_count": 2,
   "metadata": {},
   "outputs": [],
   "source": [
    "cnx = psycopg2.connect(\"dbname='wdi' user='bcarter' host='localhost' password='bcarter'\")\n",
    "cnx.autocommit=True"
   ]
  },
  {
   "cell_type": "code",
   "execution_count": 3,
   "metadata": {},
   "outputs": [],
   "source": [
    "query = '''\n",
    "select a.value_year as year, \n",
    "       a.model_values as umemployeed_basic_ed, \n",
    "       b.model_values as unemployed_intermediate_ed,\n",
    "       c.model_values as unemployed_advanced_ed,\n",
    "       d.model_values as employed_agriculture,\n",
    "       e.model_values as employed_industry,\n",
    "       f.model_values as employed_services,\n",
    "       g.model_values as total_labor_force_basic_ed,\n",
    "       h.model_values as total_labor_force_intermediate_ed,\n",
    "       i.model_values as total_labor_force_advanced_ed\n",
    "from\n",
    "(select indicator_code, value_year, model_values from wdi_modeling where indicator_code =  'SL.UEM.BASC.ZS') a,\n",
    "(select indicator_code, value_year, model_values from wdi_modeling where indicator_code =  'SL.UEM.INTM.ZS') b,\n",
    "(select indicator_code, value_year, model_values from wdi_modeling where indicator_code =  'SL.UEM.ADVN.ZS') c,\n",
    "(select indicator_code, value_year, model_values from wdi_modeling where indicator_code =  'SL.AGR.EMPL.ZS') d,\n",
    "(select indicator_code, value_year, model_values from wdi_modeling where indicator_code =  'SL.IND.EMPL.ZS') e,\n",
    "(select indicator_code, value_year, model_values from wdi_modeling where indicator_code =  'SL.SRV.EMPL.ZS') f,\n",
    "(select indicator_code, value_year, model_values from wdi_modeling where indicator_code =  'SL.TLF.BASC.ZS') g,\n",
    "(select indicator_code, value_year, model_values from wdi_modeling where indicator_code =  'SL.TLF.INTM.ZS') h,\n",
    "(select indicator_code, value_year, model_values from wdi_modeling where indicator_code =  'SL.TLF.ADVN.ZS') i\n",
    "where a.value_year between 1994 and 2017\n",
    "  and a.value_year = b.value_year\n",
    "  and c.value_year = a.value_year\n",
    "  and d.value_year = a.value_year\n",
    "  and e.value_year = a.value_year\n",
    "  and f.value_year = a.value_year\n",
    "  and g.value_year = a.value_year\n",
    "  and h.value_year = a.value_year\n",
    "  and i.value_year = a.value_year;\n",
    "'''\n"
   ]
  },
  {
   "cell_type": "code",
   "execution_count": 4,
   "metadata": {},
   "outputs": [],
   "source": [
    "query_target = '''\n",
    "select a.value_year as year, \n",
    "       a.model_values as umemployeed_basic_ed, \n",
    "       b.model_values as unemployed_intermediate_ed,\n",
    "       c.model_values as unemployed_advanced_ed,\n",
    "       d.model_values as employed_agriculture,\n",
    "       e.model_values as employed_industry,\n",
    "       f.model_values as employed_services,\n",
    "       g.model_values as total_labor_force_basic_ed,\n",
    "       h.model_values as total_labor_force_intermediate_ed,\n",
    "       i.model_values as total_labor_force_advanced_ed\n",
    "from\n",
    "(select indicator_code, value_year, model_values from wdi_modeling where indicator_code =  'SL.UEM.BASC.ZS') a,\n",
    "(select indicator_code, value_year, model_values from wdi_modeling where indicator_code =  'SL.UEM.INTM.ZS') b,\n",
    "(select indicator_code, value_year, model_values from wdi_modeling where indicator_code =  'SL.UEM.ADVN.ZS') c,\n",
    "(select indicator_code, value_year, model_values from wdi_modeling where indicator_code =  'SL.AGR.EMPL.ZS') d,\n",
    "(select indicator_code, value_year, model_values from wdi_modeling where indicator_code =  'SL.IND.EMPL.ZS') e,\n",
    "(select indicator_code, value_year, model_values from wdi_modeling where indicator_code =  'SL.SRV.EMPL.ZS') f,\n",
    "(select indicator_code, value_year, model_values from wdi_modeling where indicator_code =  'SL.TLF.BASC.ZS') g,\n",
    "(select indicator_code, value_year, model_values from wdi_modeling where indicator_code =  'SL.TLF.INTM.ZS') h,\n",
    "(select indicator_code, value_year, model_values from wdi_modeling where indicator_code =  'SL.TLF.ADVN.ZS') i\n",
    "where a.value_year between 2010 and 2015\n",
    "  and a.value_year = b.value_year\n",
    "  and c.value_year = a.value_year\n",
    "  and d.value_year = a.value_year\n",
    "  and e.value_year = a.value_year\n",
    "  and f.value_year = a.value_year\n",
    "  and g.value_year = a.value_year\n",
    "  and h.value_year = a.value_year\n",
    "  and i.value_year = a.value_year;\n",
    "'''\n"
   ]
  },
  {
   "cell_type": "code",
   "execution_count": 5,
   "metadata": {},
   "outputs": [],
   "source": [
    "df_target=pd.read_sql(query_target,cnx)"
   ]
  },
  {
   "cell_type": "code",
   "execution_count": 6,
   "metadata": {},
   "outputs": [],
   "source": [
    "df_target.year = df_target.year.astype(int)"
   ]
  },
  {
   "cell_type": "code",
   "execution_count": 7,
   "metadata": {},
   "outputs": [
    {
     "data": {
      "text/html": [
       "<div>\n",
       "<style scoped>\n",
       "    .dataframe tbody tr th:only-of-type {\n",
       "        vertical-align: middle;\n",
       "    }\n",
       "\n",
       "    .dataframe tbody tr th {\n",
       "        vertical-align: top;\n",
       "    }\n",
       "\n",
       "    .dataframe thead th {\n",
       "        text-align: right;\n",
       "    }\n",
       "</style>\n",
       "<table border=\"1\" class=\"dataframe\">\n",
       "  <thead>\n",
       "    <tr style=\"text-align: right;\">\n",
       "      <th></th>\n",
       "      <th>year</th>\n",
       "      <th>umemployeed_basic_ed</th>\n",
       "      <th>unemployed_intermediate_ed</th>\n",
       "      <th>unemployed_advanced_ed</th>\n",
       "      <th>employed_agriculture</th>\n",
       "      <th>employed_industry</th>\n",
       "      <th>employed_services</th>\n",
       "      <th>total_labor_force_basic_ed</th>\n",
       "      <th>total_labor_force_intermediate_ed</th>\n",
       "      <th>total_labor_force_advanced_ed</th>\n",
       "    </tr>\n",
       "  </thead>\n",
       "  <tbody>\n",
       "    <tr>\n",
       "      <th>0</th>\n",
       "      <td>2010</td>\n",
       "      <td>15.7552</td>\n",
       "      <td>11.0254</td>\n",
       "      <td>5.2563</td>\n",
       "      <td>1.621</td>\n",
       "      <td>18.474001</td>\n",
       "      <td>79.905998</td>\n",
       "      <td>29.297501</td>\n",
       "      <td>53.445801</td>\n",
       "      <td>72.444199</td>\n",
       "    </tr>\n",
       "    <tr>\n",
       "      <th>1</th>\n",
       "      <td>2011</td>\n",
       "      <td>15.6235</td>\n",
       "      <td>10.9099</td>\n",
       "      <td>5.1699</td>\n",
       "      <td>1.646</td>\n",
       "      <td>18.573000</td>\n",
       "      <td>79.780998</td>\n",
       "      <td>28.909901</td>\n",
       "      <td>52.674900</td>\n",
       "      <td>71.883003</td>\n",
       "    </tr>\n",
       "    <tr>\n",
       "      <th>2</th>\n",
       "      <td>2012</td>\n",
       "      <td>14.8257</td>\n",
       "      <td>10.1284</td>\n",
       "      <td>4.9862</td>\n",
       "      <td>1.568</td>\n",
       "      <td>18.500000</td>\n",
       "      <td>79.932999</td>\n",
       "      <td>29.169001</td>\n",
       "      <td>51.819401</td>\n",
       "      <td>71.489998</td>\n",
       "    </tr>\n",
       "    <tr>\n",
       "      <th>3</th>\n",
       "      <td>2013</td>\n",
       "      <td>14.8257</td>\n",
       "      <td>10.1284</td>\n",
       "      <td>4.9862</td>\n",
       "      <td>1.568</td>\n",
       "      <td>18.500000</td>\n",
       "      <td>79.932999</td>\n",
       "      <td>29.169001</td>\n",
       "      <td>51.819401</td>\n",
       "      <td>71.489998</td>\n",
       "    </tr>\n",
       "    <tr>\n",
       "      <th>4</th>\n",
       "      <td>2014</td>\n",
       "      <td>11.5530</td>\n",
       "      <td>7.9270</td>\n",
       "      <td>3.8213</td>\n",
       "      <td>1.562</td>\n",
       "      <td>18.995001</td>\n",
       "      <td>79.443001</td>\n",
       "      <td>28.598101</td>\n",
       "      <td>50.627800</td>\n",
       "      <td>70.385399</td>\n",
       "    </tr>\n",
       "  </tbody>\n",
       "</table>\n",
       "</div>"
      ],
      "text/plain": [
       "   year  umemployeed_basic_ed  unemployed_intermediate_ed  \\\n",
       "0  2010               15.7552                     11.0254   \n",
       "1  2011               15.6235                     10.9099   \n",
       "2  2012               14.8257                     10.1284   \n",
       "3  2013               14.8257                     10.1284   \n",
       "4  2014               11.5530                      7.9270   \n",
       "\n",
       "   unemployed_advanced_ed  employed_agriculture  employed_industry  \\\n",
       "0                  5.2563                 1.621          18.474001   \n",
       "1                  5.1699                 1.646          18.573000   \n",
       "2                  4.9862                 1.568          18.500000   \n",
       "3                  4.9862                 1.568          18.500000   \n",
       "4                  3.8213                 1.562          18.995001   \n",
       "\n",
       "   employed_services  total_labor_force_basic_ed  \\\n",
       "0          79.905998                   29.297501   \n",
       "1          79.780998                   28.909901   \n",
       "2          79.932999                   29.169001   \n",
       "3          79.932999                   29.169001   \n",
       "4          79.443001                   28.598101   \n",
       "\n",
       "   total_labor_force_intermediate_ed  total_labor_force_advanced_ed  \n",
       "0                          53.445801                      72.444199  \n",
       "1                          52.674900                      71.883003  \n",
       "2                          51.819401                      71.489998  \n",
       "3                          51.819401                      71.489998  \n",
       "4                          50.627800                      70.385399  "
      ]
     },
     "execution_count": 7,
     "metadata": {},
     "output_type": "execute_result"
    }
   ],
   "source": [
    "df_target.head()"
   ]
  },
  {
   "cell_type": "code",
   "execution_count": 8,
   "metadata": {},
   "outputs": [],
   "source": [
    "df=pd.read_sql(query,cnx)"
   ]
  },
  {
   "cell_type": "code",
   "execution_count": 9,
   "metadata": {},
   "outputs": [],
   "source": [
    "df.year = df.year.astype(int)"
   ]
  },
  {
   "cell_type": "code",
   "execution_count": 10,
   "metadata": {},
   "outputs": [
    {
     "data": {
      "text/html": [
       "<div>\n",
       "<style scoped>\n",
       "    .dataframe tbody tr th:only-of-type {\n",
       "        vertical-align: middle;\n",
       "    }\n",
       "\n",
       "    .dataframe tbody tr th {\n",
       "        vertical-align: top;\n",
       "    }\n",
       "\n",
       "    .dataframe thead th {\n",
       "        text-align: right;\n",
       "    }\n",
       "</style>\n",
       "<table border=\"1\" class=\"dataframe\">\n",
       "  <thead>\n",
       "    <tr style=\"text-align: right;\">\n",
       "      <th></th>\n",
       "      <th>year</th>\n",
       "      <th>umemployeed_basic_ed</th>\n",
       "      <th>unemployed_intermediate_ed</th>\n",
       "      <th>unemployed_advanced_ed</th>\n",
       "      <th>employed_agriculture</th>\n",
       "      <th>employed_industry</th>\n",
       "      <th>employed_services</th>\n",
       "      <th>total_labor_force_basic_ed</th>\n",
       "      <th>total_labor_force_intermediate_ed</th>\n",
       "      <th>total_labor_force_advanced_ed</th>\n",
       "    </tr>\n",
       "  </thead>\n",
       "  <tbody>\n",
       "    <tr>\n",
       "      <th>count</th>\n",
       "      <td>24.000000</td>\n",
       "      <td>24.000000</td>\n",
       "      <td>24.000000</td>\n",
       "      <td>24.000000</td>\n",
       "      <td>24.000000</td>\n",
       "      <td>24.000000</td>\n",
       "      <td>24.000000</td>\n",
       "      <td>24.000000</td>\n",
       "      <td>24.000000</td>\n",
       "      <td>24.000000</td>\n",
       "    </tr>\n",
       "    <tr>\n",
       "      <th>mean</th>\n",
       "      <td>2005.500000</td>\n",
       "      <td>12.216921</td>\n",
       "      <td>7.126012</td>\n",
       "      <td>3.299596</td>\n",
       "      <td>1.884833</td>\n",
       "      <td>20.948542</td>\n",
       "      <td>77.166792</td>\n",
       "      <td>28.094050</td>\n",
       "      <td>55.058159</td>\n",
       "      <td>72.987925</td>\n",
       "    </tr>\n",
       "    <tr>\n",
       "      <th>std</th>\n",
       "      <td>7.071068</td>\n",
       "      <td>2.184569</td>\n",
       "      <td>1.880499</td>\n",
       "      <td>1.012841</td>\n",
       "      <td>0.474160</td>\n",
       "      <td>2.006231</td>\n",
       "      <td>2.392623</td>\n",
       "      <td>1.523829</td>\n",
       "      <td>2.962268</td>\n",
       "      <td>1.948237</td>\n",
       "    </tr>\n",
       "    <tr>\n",
       "      <th>min</th>\n",
       "      <td>1994.000000</td>\n",
       "      <td>8.024500</td>\n",
       "      <td>4.860600</td>\n",
       "      <td>2.094500</td>\n",
       "      <td>1.463000</td>\n",
       "      <td>18.474001</td>\n",
       "      <td>73.570000</td>\n",
       "      <td>24.356600</td>\n",
       "      <td>50.232300</td>\n",
       "      <td>69.309799</td>\n",
       "    </tr>\n",
       "    <tr>\n",
       "      <th>25%</th>\n",
       "      <td>1999.750000</td>\n",
       "      <td>11.118425</td>\n",
       "      <td>5.810250</td>\n",
       "      <td>2.569650</td>\n",
       "      <td>1.568000</td>\n",
       "      <td>18.875751</td>\n",
       "      <td>74.777752</td>\n",
       "      <td>27.945800</td>\n",
       "      <td>52.461025</td>\n",
       "      <td>71.784752</td>\n",
       "    </tr>\n",
       "    <tr>\n",
       "      <th>50%</th>\n",
       "      <td>2005.500000</td>\n",
       "      <td>11.904200</td>\n",
       "      <td>6.509050</td>\n",
       "      <td>3.051100</td>\n",
       "      <td>1.661500</td>\n",
       "      <td>21.105500</td>\n",
       "      <td>77.326000</td>\n",
       "      <td>28.587601</td>\n",
       "      <td>55.813801</td>\n",
       "      <td>73.157299</td>\n",
       "    </tr>\n",
       "    <tr>\n",
       "      <th>75%</th>\n",
       "      <td>2011.250000</td>\n",
       "      <td>13.935150</td>\n",
       "      <td>7.229125</td>\n",
       "      <td>3.392750</td>\n",
       "      <td>1.996250</td>\n",
       "      <td>23.034000</td>\n",
       "      <td>79.501751</td>\n",
       "      <td>29.102400</td>\n",
       "      <td>57.917749</td>\n",
       "      <td>74.353849</td>\n",
       "    </tr>\n",
       "    <tr>\n",
       "      <th>max</th>\n",
       "      <td>2017.000000</td>\n",
       "      <td>15.755200</td>\n",
       "      <td>11.025400</td>\n",
       "      <td>5.256300</td>\n",
       "      <td>2.794000</td>\n",
       "      <td>23.650999</td>\n",
       "      <td>79.932999</td>\n",
       "      <td>29.850401</td>\n",
       "      <td>58.476299</td>\n",
       "      <td>75.657402</td>\n",
       "    </tr>\n",
       "  </tbody>\n",
       "</table>\n",
       "</div>"
      ],
      "text/plain": [
       "              year  umemployeed_basic_ed  unemployed_intermediate_ed  \\\n",
       "count    24.000000             24.000000                   24.000000   \n",
       "mean   2005.500000             12.216921                    7.126012   \n",
       "std       7.071068              2.184569                    1.880499   \n",
       "min    1994.000000              8.024500                    4.860600   \n",
       "25%    1999.750000             11.118425                    5.810250   \n",
       "50%    2005.500000             11.904200                    6.509050   \n",
       "75%    2011.250000             13.935150                    7.229125   \n",
       "max    2017.000000             15.755200                   11.025400   \n",
       "\n",
       "       unemployed_advanced_ed  employed_agriculture  employed_industry  \\\n",
       "count               24.000000             24.000000          24.000000   \n",
       "mean                 3.299596              1.884833          20.948542   \n",
       "std                  1.012841              0.474160           2.006231   \n",
       "min                  2.094500              1.463000          18.474001   \n",
       "25%                  2.569650              1.568000          18.875751   \n",
       "50%                  3.051100              1.661500          21.105500   \n",
       "75%                  3.392750              1.996250          23.034000   \n",
       "max                  5.256300              2.794000          23.650999   \n",
       "\n",
       "       employed_services  total_labor_force_basic_ed  \\\n",
       "count          24.000000                   24.000000   \n",
       "mean           77.166792                   28.094050   \n",
       "std             2.392623                    1.523829   \n",
       "min            73.570000                   24.356600   \n",
       "25%            74.777752                   27.945800   \n",
       "50%            77.326000                   28.587601   \n",
       "75%            79.501751                   29.102400   \n",
       "max            79.932999                   29.850401   \n",
       "\n",
       "       total_labor_force_intermediate_ed  total_labor_force_advanced_ed  \n",
       "count                          24.000000                      24.000000  \n",
       "mean                           55.058159                      72.987925  \n",
       "std                             2.962268                       1.948237  \n",
       "min                            50.232300                      69.309799  \n",
       "25%                            52.461025                      71.784752  \n",
       "50%                            55.813801                      73.157299  \n",
       "75%                            57.917749                      74.353849  \n",
       "max                            58.476299                      75.657402  "
      ]
     },
     "execution_count": 10,
     "metadata": {},
     "output_type": "execute_result"
    }
   ],
   "source": [
    "df.describe()"
   ]
  },
  {
   "cell_type": "code",
   "execution_count": 11,
   "metadata": {},
   "outputs": [
    {
     "name": "stdout",
     "output_type": "stream",
     "text": [
      "<class 'pandas.core.frame.DataFrame'>\n",
      "RangeIndex: 24 entries, 0 to 23\n",
      "Data columns (total 10 columns):\n",
      "year                                 24 non-null int64\n",
      "umemployeed_basic_ed                 24 non-null float64\n",
      "unemployed_intermediate_ed           24 non-null float64\n",
      "unemployed_advanced_ed               24 non-null float64\n",
      "employed_agriculture                 24 non-null float64\n",
      "employed_industry                    24 non-null float64\n",
      "employed_services                    24 non-null float64\n",
      "total_labor_force_basic_ed           24 non-null float64\n",
      "total_labor_force_intermediate_ed    24 non-null float64\n",
      "total_labor_force_advanced_ed        24 non-null float64\n",
      "dtypes: float64(9), int64(1)\n",
      "memory usage: 2.0 KB\n"
     ]
    }
   ],
   "source": [
    "df.info()"
   ]
  },
  {
   "cell_type": "code",
   "execution_count": 12,
   "metadata": {},
   "outputs": [
    {
     "data": {
      "text/html": [
       "<div>\n",
       "<style scoped>\n",
       "    .dataframe tbody tr th:only-of-type {\n",
       "        vertical-align: middle;\n",
       "    }\n",
       "\n",
       "    .dataframe tbody tr th {\n",
       "        vertical-align: top;\n",
       "    }\n",
       "\n",
       "    .dataframe thead th {\n",
       "        text-align: right;\n",
       "    }\n",
       "</style>\n",
       "<table border=\"1\" class=\"dataframe\">\n",
       "  <thead>\n",
       "    <tr style=\"text-align: right;\">\n",
       "      <th></th>\n",
       "      <th>year</th>\n",
       "      <th>umemployeed_basic_ed</th>\n",
       "      <th>unemployed_intermediate_ed</th>\n",
       "      <th>unemployed_advanced_ed</th>\n",
       "      <th>employed_agriculture</th>\n",
       "      <th>employed_industry</th>\n",
       "      <th>employed_services</th>\n",
       "      <th>total_labor_force_basic_ed</th>\n",
       "      <th>total_labor_force_intermediate_ed</th>\n",
       "      <th>total_labor_force_advanced_ed</th>\n",
       "    </tr>\n",
       "  </thead>\n",
       "  <tbody>\n",
       "    <tr>\n",
       "      <th>0</th>\n",
       "      <td>1994</td>\n",
       "      <td>14.3526</td>\n",
       "      <td>6.9461</td>\n",
       "      <td>3.1744</td>\n",
       "      <td>2.794</td>\n",
       "      <td>23.599001</td>\n",
       "      <td>73.608002</td>\n",
       "      <td>24.356600</td>\n",
       "      <td>58.077702</td>\n",
       "      <td>75.657402</td>\n",
       "    </tr>\n",
       "    <tr>\n",
       "      <th>1</th>\n",
       "      <td>1995</td>\n",
       "      <td>13.7549</td>\n",
       "      <td>6.4846</td>\n",
       "      <td>3.0425</td>\n",
       "      <td>2.779</td>\n",
       "      <td>23.650999</td>\n",
       "      <td>73.570000</td>\n",
       "      <td>25.115299</td>\n",
       "      <td>58.002201</td>\n",
       "      <td>75.514297</td>\n",
       "    </tr>\n",
       "    <tr>\n",
       "      <th>2</th>\n",
       "      <td>1996</td>\n",
       "      <td>13.7960</td>\n",
       "      <td>6.3102</td>\n",
       "      <td>2.8593</td>\n",
       "      <td>2.743</td>\n",
       "      <td>23.540001</td>\n",
       "      <td>73.717003</td>\n",
       "      <td>25.248100</td>\n",
       "      <td>58.177601</td>\n",
       "      <td>75.533600</td>\n",
       "    </tr>\n",
       "    <tr>\n",
       "      <th>3</th>\n",
       "      <td>1997</td>\n",
       "      <td>12.3494</td>\n",
       "      <td>6.0210</td>\n",
       "      <td>2.4618</td>\n",
       "      <td>2.649</td>\n",
       "      <td>23.598000</td>\n",
       "      <td>73.752998</td>\n",
       "      <td>25.964800</td>\n",
       "      <td>58.476299</td>\n",
       "      <td>75.636902</td>\n",
       "    </tr>\n",
       "    <tr>\n",
       "      <th>4</th>\n",
       "      <td>1998</td>\n",
       "      <td>11.3081</td>\n",
       "      <td>5.5007</td>\n",
       "      <td>2.2831</td>\n",
       "      <td>2.588</td>\n",
       "      <td>23.377001</td>\n",
       "      <td>74.033997</td>\n",
       "      <td>26.588800</td>\n",
       "      <td>58.135700</td>\n",
       "      <td>75.264801</td>\n",
       "    </tr>\n",
       "    <tr>\n",
       "      <th>5</th>\n",
       "      <td>1999</td>\n",
       "      <td>11.2973</td>\n",
       "      <td>5.1563</td>\n",
       "      <td>2.1481</td>\n",
       "      <td>2.483</td>\n",
       "      <td>22.938000</td>\n",
       "      <td>74.579002</td>\n",
       "      <td>27.168800</td>\n",
       "      <td>58.188702</td>\n",
       "      <td>74.734703</td>\n",
       "    </tr>\n",
       "    <tr>\n",
       "      <th>6</th>\n",
       "      <td>2000</td>\n",
       "      <td>10.5818</td>\n",
       "      <td>4.8606</td>\n",
       "      <td>2.0945</td>\n",
       "      <td>1.834</td>\n",
       "      <td>23.322001</td>\n",
       "      <td>74.844002</td>\n",
       "      <td>28.297300</td>\n",
       "      <td>57.889599</td>\n",
       "      <td>74.226898</td>\n",
       "    </tr>\n",
       "    <tr>\n",
       "      <th>7</th>\n",
       "      <td>2001</td>\n",
       "      <td>11.7216</td>\n",
       "      <td>5.4670</td>\n",
       "      <td>2.5872</td>\n",
       "      <td>1.711</td>\n",
       "      <td>22.607000</td>\n",
       "      <td>75.681999</td>\n",
       "      <td>28.467800</td>\n",
       "      <td>57.640400</td>\n",
       "      <td>73.409599</td>\n",
       "    </tr>\n",
       "    <tr>\n",
       "      <th>8</th>\n",
       "      <td>2002</td>\n",
       "      <td>12.0868</td>\n",
       "      <td>6.7538</td>\n",
       "      <td>3.1736</td>\n",
       "      <td>1.727</td>\n",
       "      <td>21.658001</td>\n",
       "      <td>76.614998</td>\n",
       "      <td>28.426701</td>\n",
       "      <td>57.197102</td>\n",
       "      <td>73.152397</td>\n",
       "    </tr>\n",
       "    <tr>\n",
       "      <th>9</th>\n",
       "      <td>2003</td>\n",
       "      <td>12.2812</td>\n",
       "      <td>6.8354</td>\n",
       "      <td>3.2499</td>\n",
       "      <td>1.683</td>\n",
       "      <td>21.278999</td>\n",
       "      <td>77.038002</td>\n",
       "      <td>28.712400</td>\n",
       "      <td>56.666100</td>\n",
       "      <td>73.252701</td>\n",
       "    </tr>\n",
       "  </tbody>\n",
       "</table>\n",
       "</div>"
      ],
      "text/plain": [
       "   year  umemployeed_basic_ed  unemployed_intermediate_ed  \\\n",
       "0  1994               14.3526                      6.9461   \n",
       "1  1995               13.7549                      6.4846   \n",
       "2  1996               13.7960                      6.3102   \n",
       "3  1997               12.3494                      6.0210   \n",
       "4  1998               11.3081                      5.5007   \n",
       "5  1999               11.2973                      5.1563   \n",
       "6  2000               10.5818                      4.8606   \n",
       "7  2001               11.7216                      5.4670   \n",
       "8  2002               12.0868                      6.7538   \n",
       "9  2003               12.2812                      6.8354   \n",
       "\n",
       "   unemployed_advanced_ed  employed_agriculture  employed_industry  \\\n",
       "0                  3.1744                 2.794          23.599001   \n",
       "1                  3.0425                 2.779          23.650999   \n",
       "2                  2.8593                 2.743          23.540001   \n",
       "3                  2.4618                 2.649          23.598000   \n",
       "4                  2.2831                 2.588          23.377001   \n",
       "5                  2.1481                 2.483          22.938000   \n",
       "6                  2.0945                 1.834          23.322001   \n",
       "7                  2.5872                 1.711          22.607000   \n",
       "8                  3.1736                 1.727          21.658001   \n",
       "9                  3.2499                 1.683          21.278999   \n",
       "\n",
       "   employed_services  total_labor_force_basic_ed  \\\n",
       "0          73.608002                   24.356600   \n",
       "1          73.570000                   25.115299   \n",
       "2          73.717003                   25.248100   \n",
       "3          73.752998                   25.964800   \n",
       "4          74.033997                   26.588800   \n",
       "5          74.579002                   27.168800   \n",
       "6          74.844002                   28.297300   \n",
       "7          75.681999                   28.467800   \n",
       "8          76.614998                   28.426701   \n",
       "9          77.038002                   28.712400   \n",
       "\n",
       "   total_labor_force_intermediate_ed  total_labor_force_advanced_ed  \n",
       "0                          58.077702                      75.657402  \n",
       "1                          58.002201                      75.514297  \n",
       "2                          58.177601                      75.533600  \n",
       "3                          58.476299                      75.636902  \n",
       "4                          58.135700                      75.264801  \n",
       "5                          58.188702                      74.734703  \n",
       "6                          57.889599                      74.226898  \n",
       "7                          57.640400                      73.409599  \n",
       "8                          57.197102                      73.152397  \n",
       "9                          56.666100                      73.252701  "
      ]
     },
     "execution_count": 12,
     "metadata": {},
     "output_type": "execute_result"
    }
   ],
   "source": [
    "df.head(10)"
   ]
  },
  {
   "cell_type": "code",
   "execution_count": 13,
   "metadata": {},
   "outputs": [],
   "source": [
    "def linear_model(X,y):\n",
    "    X_train, X_test, y_train, y_test = train_test_split(X, y, test_size=0.33, random_state=324)\n",
    "    scaler = preprocessing.StandardScaler()\n",
    "    X_train_scaled=scaler.fit_transform(X_train)\n",
    "    X_test_scaled=scaler.transform(X_test)\n",
    "    regressor = LinearRegression()\n",
    "    regressor.fit(X_train_scaled, y_train)\n",
    "    y_prediction = regressor.predict(X_test_scaled)\n",
    "    model_score=regressor.score(X_train_scaled, y_train)\n",
    "    \n",
    "    RMSE = sqrt(mean_squared_error(y_true = y_test, y_pred = y_prediction))\n",
    "    \n",
    "    X_train_const = sm.add_constant(X_train_scaled)\n",
    "    X_test_const = sm.add_constant(X_test_scaled)\n",
    "    model = sm.OLS(y_train,X_train_const).fit()\n",
    "    y_predictions = model.predict(X_test_const) \n",
    "    \n",
    "    \n",
    "    return RMSE, model.summary(), y_test,y_train, y_prediction, y_predictions, model_score\n",
    "    "
   ]
  },
  {
   "cell_type": "markdown",
   "metadata": {},
   "source": [
    "Data Visualization"
   ]
  },
  {
   "cell_type": "code",
   "execution_count": 14,
   "metadata": {},
   "outputs": [],
   "source": [
    "def data_vis(X, title_name):\n",
    "    plt.title(title_name)\n",
    "    p=plt.hist(X)\n",
    "    plt.show\n",
    "    return \n"
   ]
  },
  {
   "cell_type": "code",
   "execution_count": 15,
   "metadata": {},
   "outputs": [
    {
     "data": {
      "image/png": "[encoded data removed]",
      "text/plain": [
       "<Figure size 432x288 with 1 Axes>"
      ]
     },
     "metadata": {
      "needs_background": "light"
     },
     "output_type": "display_data"
    }
   ],
   "source": [
    "data_vis(df['total_labor_force_advanced_ed'], 'Histogram of percent of labor force with Advanced Ed.')"
   ]
  },
  {
   "cell_type": "code",
   "execution_count": 16,
   "metadata": {},
   "outputs": [
    {
     "data": {
      "text/plain": [
       "Text(0,0.5,'Pct.')"
      ]
     },
     "execution_count": 16,
     "metadata": {},
     "output_type": "execute_result"
    },
    {
     "data": {
      "image/png": "[encoded data removed]",
      "text/plain": [
       "<Figure size 432x288 with 1 Axes>"
      ]
     },
     "metadata": {
      "needs_background": "light"
     },
     "output_type": "display_data"
    }
   ],
   "source": [
    "plt.plot(df['year'],df['total_labor_force_advanced_ed'])\n",
    "plt.title('Percent of Labor force with Advanced Degrees by year')\n",
    "plt.xlabel('years')\n",
    "plt.ylabel('Pct.')"
   ]
  },
  {
   "cell_type": "code",
   "execution_count": 17,
   "metadata": {},
   "outputs": [
    {
     "data": {
      "text/plain": [
       "count    24.000000\n",
       "mean     72.987925\n",
       "std       1.948237\n",
       "min      69.309799\n",
       "25%      71.784752\n",
       "50%      73.157299\n",
       "75%      74.353849\n",
       "max      75.657402\n",
       "Name: total_labor_force_advanced_ed, dtype: float64"
      ]
     },
     "execution_count": 17,
     "metadata": {},
     "output_type": "execute_result"
    }
   ],
   "source": [
    "df['total_labor_force_advanced_ed'].describe()"
   ]
  },
  {
   "cell_type": "code",
   "execution_count": 18,
   "metadata": {},
   "outputs": [
    {
     "data": {
      "image/png": "[encoded data removed]",
      "text/plain": [
       "<Figure size 432x288 with 1 Axes>"
      ]
     },
     "metadata": {
      "needs_background": "light"
     },
     "output_type": "display_data"
    }
   ],
   "source": [
    "data_vis(df['total_labor_force_intermediate_ed'], 'Histogram of percent of labor force with Intermediate Ed.')"
   ]
  },
  {
   "cell_type": "code",
   "execution_count": 19,
   "metadata": {},
   "outputs": [
    {
     "data": {
      "text/plain": [
       "Text(0,0.5,'Pct.')"
      ]
     },
     "execution_count": 19,
     "metadata": {},
     "output_type": "execute_result"
    },
    {
     "data": {
      "image/png": "[encoded data removed]",
      "text/plain": [
       "<Figure size 432x288 with 1 Axes>"
      ]
     },
     "metadata": {
      "needs_background": "light"
     },
     "output_type": "display_data"
    }
   ],
   "source": [
    "plt.plot(df['year'],df['total_labor_force_intermediate_ed'])\n",
    "plt.title('Percent of Labor force with Intermediate Degrees by year')\n",
    "plt.xlabel('years')\n",
    "plt.ylabel('Pct.')"
   ]
  },
  {
   "cell_type": "code",
   "execution_count": 20,
   "metadata": {},
   "outputs": [
    {
     "data": {
      "text/plain": [
       "count    24.000000\n",
       "mean     55.058159\n",
       "std       2.962268\n",
       "min      50.232300\n",
       "25%      52.461025\n",
       "50%      55.813801\n",
       "75%      57.917749\n",
       "max      58.476299\n",
       "Name: total_labor_force_intermediate_ed, dtype: float64"
      ]
     },
     "execution_count": 20,
     "metadata": {},
     "output_type": "execute_result"
    }
   ],
   "source": [
    "df['total_labor_force_intermediate_ed'].describe()"
   ]
  },
  {
   "cell_type": "code",
   "execution_count": 21,
   "metadata": {},
   "outputs": [
    {
     "data": {
      "image/png": "[encoded data removed]",
      "text/plain": [
       "<Figure size 432x288 with 1 Axes>"
      ]
     },
     "metadata": {
      "needs_background": "light"
     },
     "output_type": "display_data"
    }
   ],
   "source": [
    "data_vis(df['total_labor_force_basic_ed'], 'Histogram of percent of labor force with Basic Ed.')"
   ]
  },
  {
   "cell_type": "code",
   "execution_count": 22,
   "metadata": {},
   "outputs": [
    {
     "data": {
      "text/plain": [
       "Text(0,0.5,'Pct.')"
      ]
     },
     "execution_count": 22,
     "metadata": {},
     "output_type": "execute_result"
    },
    {
     "data": {
      "image/png": "[encoded data removed]",
      "text/plain": [
       "<Figure size 432x288 with 1 Axes>"
      ]
     },
     "metadata": {
      "needs_background": "light"
     },
     "output_type": "display_data"
    }
   ],
   "source": [
    "plt.plot(df['year'],df['total_labor_force_basic_ed'])\n",
    "plt.title('Labor force with Basic Degrees by year')\n",
    "plt.xlabel('years')\n",
    "plt.ylabel('Pct.')"
   ]
  },
  {
   "cell_type": "markdown",
   "metadata": {},
   "source": [
    "Model Data"
   ]
  },
  {
   "cell_type": "markdown",
   "metadata": {},
   "source": [
    "Model 1 - predict employment in service industry"
   ]
  },
  {
   "cell_type": "code",
   "execution_count": 23,
   "metadata": {},
   "outputs": [],
   "source": [
    "#features=['total_labor_force_basic_ed','total_labor_force_intermediate_ed','total_labor_force_advanced_ed']\n",
    "features=['total_labor_force_basic_ed','total_labor_force_intermediate_ed','total_labor_force_advanced_ed']\n",
    "\n",
    "target='employed_services'\n",
    "X = df[features]\n",
    "y= df[target]\n",
    "y_true=df_target[target]"
   ]
  },
  {
   "cell_type": "code",
   "execution_count": 24,
   "metadata": {},
   "outputs": [
    {
     "name": "stderr",
     "output_type": "stream",
     "text": [
      "/home/bcarter/anaconda3/lib/python3.6/site-packages/scipy/stats/stats.py:1394: UserWarning: kurtosistest only valid for n>=20 ... continuing anyway, n=16\n",
      "  \"anyway, n=%i\" % int(n))\n"
     ]
    }
   ],
   "source": [
    "rmse_model1,model1_summary,y_test1,y_train1,y_pred1,y_preds1,r_squared1=linear_model(X,y)"
   ]
  },
  {
   "cell_type": "code",
   "execution_count": 25,
   "metadata": {},
   "outputs": [
    {
     "data": {
      "text/plain": [
       "(1.0, 0.0)"
      ]
     },
     "execution_count": 25,
     "metadata": {},
     "output_type": "execute_result"
    }
   ],
   "source": [
    "stats.pearsonr(y_pred1,y_preds1)"
   ]
  },
  {
   "cell_type": "code",
   "execution_count": 26,
   "metadata": {},
   "outputs": [
    {
     "name": "stdout",
     "output_type": "stream",
     "text": [
      "0.9724053611312053\n"
     ]
    }
   ],
   "source": [
    "print(r_squared1)"
   ]
  },
  {
   "cell_type": "code",
   "execution_count": 27,
   "metadata": {
    "scrolled": true
   },
   "outputs": [
    {
     "name": "stdout",
     "output_type": "stream",
     "text": [
      "Model RSME:  0.8805664683357457\n",
      "                            OLS Regression Results                            \n",
      "==============================================================================\n",
      "Dep. Variable:      employed_services   R-squared:                       0.972\n",
      "Model:                            OLS   Adj. R-squared:                  0.966\n",
      "Method:                 Least Squares   F-statistic:                     141.0\n",
      "Date:                Fri, 15 Feb 2019   Prob (F-statistic):           1.28e-09\n",
      "Time:                        08:44:14   Log-Likelihood:                -7.9036\n",
      "No. Observations:                  16   AIC:                             23.81\n",
      "Df Residuals:                      12   BIC:                             26.90\n",
      "Df Model:                           3                                         \n",
      "Covariance Type:            nonrobust                                         \n",
      "==============================================================================\n",
      "                 coef    std err          t      P>|t|      [0.025      0.975]\n",
      "------------------------------------------------------------------------------\n",
      "const         77.4042      0.114    676.180      0.000      77.155      77.654\n",
      "x1             1.7937      0.237      7.579      0.000       1.278       2.309\n",
      "x2            -2.3455      0.428     -5.475      0.000      -3.279      -1.412\n",
      "x3             1.6119      0.533      3.023      0.011       0.450       2.774\n",
      "==============================================================================\n",
      "Omnibus:                        4.667   Durbin-Watson:                   2.206\n",
      "Prob(Omnibus):                  0.097   Jarque-Bera (JB):                2.878\n",
      "Skew:                          -1.037   Prob(JB):                        0.237\n",
      "Kurtosis:                       3.134   Cond. No.                         9.85\n",
      "==============================================================================\n",
      "\n",
      "Warnings:\n",
      "[1] Standard Errors assume that the covariance matrix of the errors is correctly specified.\n"
     ]
    }
   ],
   "source": [
    "print('Model RSME: ', rmse_model1)\n",
    "print(model1_summary)\n"
   ]
  },
  {
   "cell_type": "code",
   "execution_count": 33,
   "metadata": {
    "scrolled": true
   },
   "outputs": [
    {
     "data": {
      "text/plain": [
       "<matplotlib.collections.PathCollection at 0x7f2ae6840358>"
      ]
     },
     "execution_count": 33,
     "metadata": {},
     "output_type": "execute_result"
    },
    {
     "data": {
      "image/png": "[encoded data removed]",
      "text/plain": [
       "<Figure size 432x288 with 1 Axes>"
      ]
     },
     "metadata": {
      "needs_background": "light"
     },
     "output_type": "display_data"
    },
    {
     "data": {
      "image/png": "[encoded data removed]",
      "text/plain": [
       "<Figure size 360x360 with 1 Axes>"
      ]
     },
     "metadata": {
      "needs_background": "light"
     },
     "output_type": "display_data"
    }
   ],
   "source": [
    "plt.scatter((y_test1 - y_pred1), y_test1)\n",
    "plt.title('Errors versus actuals model 1')\n",
    "plt.figure(figsize=(5,5))\n",
    "plt.title('Predicted versus True Values')\n",
    "plt.xlabel('Predicted Values')\n",
    "plt.ylabel('True Values')\n",
    "plt.scatter(y_test1,y_pred1)"
   ]
  },
  {
   "cell_type": "markdown",
   "metadata": {},
   "source": [
    "Model 2"
   ]
  },
  {
   "cell_type": "code",
   "execution_count": 29,
   "metadata": {},
   "outputs": [],
   "source": [
    "features=['total_labor_force_basic_ed','total_labor_force_intermediate_ed','total_labor_force_advanced_ed']\n",
    "target='employed_agriculture'\n",
    "X = df[features]\n",
    "y = df[target]\n",
    "scaler = MinMaxScaler()\n",
    "scaler.fit(X)\n",
    "X_scaled=scaler.transform(X)\n",
    "scaler = preprocessing.StandardScaler().fit(X)\n",
    "X_scaled2=scaler.transform(X)"
   ]
  },
  {
   "cell_type": "code",
   "execution_count": 30,
   "metadata": {},
   "outputs": [
    {
     "name": "stderr",
     "output_type": "stream",
     "text": [
      "/home/bcarter/anaconda3/lib/python3.6/site-packages/scipy/stats/stats.py:1394: UserWarning: kurtosistest only valid for n>=20 ... continuing anyway, n=16\n",
      "  \"anyway, n=%i\" % int(n))\n"
     ]
    }
   ],
   "source": [
    "rmse_model2,model2_summary,y_test2,y_train2,y_pred2,y_preds2,r_squared2=linear_model(X,y)"
   ]
  },
  {
   "cell_type": "code",
   "execution_count": 31,
   "metadata": {},
   "outputs": [
    {
     "name": "stdout",
     "output_type": "stream",
     "text": [
      "R**2:  0.9072349605094412\n",
      "Model 2 RSME:  0.18207203640346353\n",
      "                             OLS Regression Results                             \n",
      "================================================================================\n",
      "Dep. Variable:     employed_agriculture   R-squared:                       0.907\n",
      "Model:                              OLS   Adj. R-squared:                  0.884\n",
      "Method:                   Least Squares   F-statistic:                     39.12\n",
      "Date:                  Fri, 15 Feb 2019   Prob (F-statistic):           1.79e-06\n",
      "Time:                          08:45:02   Log-Likelihood:                 8.5388\n",
      "No. Observations:                    16   AIC:                            -9.078\n",
      "Df Residuals:                        12   BIC:                            -5.987\n",
      "Df Model:                             3                                         \n",
      "Covariance Type:              nonrobust                                         \n",
      "==============================================================================\n",
      "                 coef    std err          t      P>|t|      [0.025      0.975]\n",
      "------------------------------------------------------------------------------\n",
      "const          1.8894      0.041     46.125      0.000       1.800       1.979\n",
      "x1            -0.4406      0.085     -5.202      0.000      -0.625      -0.256\n",
      "x2            -0.1046      0.153     -0.682      0.508      -0.439       0.229\n",
      "x3             0.0958      0.191      0.502      0.625      -0.320       0.512\n",
      "==============================================================================\n",
      "Omnibus:                        2.527   Durbin-Watson:                   1.761\n",
      "Prob(Omnibus):                  0.283   Jarque-Bera (JB):                1.044\n",
      "Skew:                           0.603   Prob(JB):                        0.593\n",
      "Kurtosis:                       3.336   Cond. No.                         9.85\n",
      "==============================================================================\n",
      "\n",
      "Warnings:\n",
      "[1] Standard Errors assume that the covariance matrix of the errors is correctly specified.\n"
     ]
    }
   ],
   "source": [
    "print('R**2: ', r_squared2)\n",
    "print('Model 2 RSME: ', rmse_model2)\n",
    "print(model2_summary)\n"
   ]
  },
  {
   "cell_type": "code",
   "execution_count": 32,
   "metadata": {},
   "outputs": [
    {
     "data": {
      "text/plain": [
       "14    78.166000\n",
       "5     74.579002\n",
       "13    77.528000\n",
       "22    79.549004\n",
       "7     75.681999\n",
       "6     74.844002\n",
       "15    79.580002\n",
       "0     73.608002\n",
       "Name: employed_services, dtype: float64"
      ]
     },
     "execution_count": 32,
     "metadata": {},
     "output_type": "execute_result"
    }
   ],
   "source": [
    "y_test1"
   ]
  },
  {
   "cell_type": "code",
   "execution_count": 33,
   "metadata": {},
   "outputs": [
    {
     "data": {
      "text/plain": [
       "<matplotlib.collections.PathCollection at 0x7fe350ad72b0>"
      ]
     },
     "execution_count": 33,
     "metadata": {},
     "output_type": "execute_result"
    },
    {
     "data": {
      "image/png": "[encoded data removed]",
      "text/plain": [
       "<Figure size 432x288 with 1 Axes>"
      ]
     },
     "metadata": {
      "needs_background": "light"
     },
     "output_type": "display_data"
    },
    {
     "data": {
      "image/png": "[encoded data removed]",
      "text/plain": [
       "<Figure size 360x360 with 1 Axes>"
      ]
     },
     "metadata": {
      "needs_background": "light"
     },
     "output_type": "display_data"
    }
   ],
   "source": [
    "plt.scatter((y_test1 - y_pred1), y_test1)\n",
    "plt.title('Errors versus actuals model 2')\n",
    "plt.figure(figsize=(5,5))\n",
    "plt.title('Predicted versus True Values')\n",
    "plt.xlabel('Predicted Values')\n",
    "plt.ylabel('True Values')\n",
    "plt.scatter(y_test1,y_pred1)"
   ]
  },
  {
   "cell_type": "markdown",
   "metadata": {},
   "source": [
    "Model 3"
   ]
  },
  {
   "cell_type": "code",
   "execution_count": 34,
   "metadata": {},
   "outputs": [],
   "source": [
    "features=['total_labor_force_basic_ed','total_labor_force_intermediate_ed','total_labor_force_advanced_ed']\n",
    "target='employed_industry'\n",
    "X = df[features]\n",
    "y = df[target]\n",
    "scaler = MinMaxScaler()\n",
    "scaler.fit(X)\n",
    "X_scaled=scaler.transform(X)\n",
    "scaler = preprocessing.StandardScaler().fit(X)\n",
    "X_scaled2=scaler.transform(X)"
   ]
  },
  {
   "cell_type": "code",
   "execution_count": 35,
   "metadata": {},
   "outputs": [
    {
     "name": "stderr",
     "output_type": "stream",
     "text": [
      "/home/bcarter/anaconda3/lib/python3.6/site-packages/scipy/stats/stats.py:1394: UserWarning: kurtosistest only valid for n>=20 ... continuing anyway, n=16\n",
      "  \"anyway, n=%i\" % int(n))\n"
     ]
    }
   ],
   "source": [
    "rmse_model3,model3_summary,y_test3,y_train3,y_pred3,y_preds3,r_squared3=linear_model(X,y)"
   ]
  },
  {
   "cell_type": "code",
   "execution_count": 36,
   "metadata": {},
   "outputs": [
    {
     "name": "stdout",
     "output_type": "stream",
     "text": [
      "R**2:  0.975058666801536\n",
      "Model 3 RSME:  0.8301182386958165\n",
      "                            OLS Regression Results                            \n",
      "==============================================================================\n",
      "Dep. Variable:      employed_industry   R-squared:                       0.975\n",
      "Model:                            OLS   Adj. R-squared:                  0.969\n",
      "Method:                 Least Squares   F-statistic:                     156.4\n",
      "Date:                Fri, 15 Feb 2019   Prob (F-statistic):           6.98e-10\n",
      "Time:                        08:45:24   Log-Likelihood:                -4.1304\n",
      "No. Observations:                  16   AIC:                             16.26\n",
      "Df Residuals:                      12   BIC:                             19.35\n",
      "Df Model:                           3                                         \n",
      "Covariance Type:            nonrobust                                         \n",
      "==============================================================================\n",
      "                 coef    std err          t      P>|t|      [0.025      0.975]\n",
      "------------------------------------------------------------------------------\n",
      "const         20.7064      0.090    228.992      0.000      20.509      20.903\n",
      "x1            -1.3526      0.187     -7.236      0.000      -1.760      -0.945\n",
      "x2             2.4490      0.338      7.237      0.000       1.712       3.186\n",
      "x3            -1.7061      0.421     -4.050      0.002      -2.624      -0.788\n",
      "==============================================================================\n",
      "Omnibus:                        0.916   Durbin-Watson:                   2.276\n",
      "Prob(Omnibus):                  0.632   Jarque-Bera (JB):                0.853\n",
      "Skew:                           0.414   Prob(JB):                        0.653\n",
      "Kurtosis:                       2.230   Cond. No.                         9.85\n",
      "==============================================================================\n",
      "\n",
      "Warnings:\n",
      "[1] Standard Errors assume that the covariance matrix of the errors is correctly specified.\n"
     ]
    }
   ],
   "source": [
    "print('R**2: ', r_squared3)\n",
    "print('Model 3 RSME: ', rmse_model3)\n",
    "print(model3_summary)"
   ]
  },
  {
   "cell_type": "code",
   "execution_count": 37,
   "metadata": {},
   "outputs": [
    {
     "data": {
      "text/plain": [
       "<matplotlib.collections.PathCollection at 0x7fe350a21ba8>"
      ]
     },
     "execution_count": 37,
     "metadata": {},
     "output_type": "execute_result"
    },
    {
     "data": {
      "image/png": "[encoded data removed]",
      "text/plain": [
       "<Figure size 432x288 with 1 Axes>"
      ]
     },
     "metadata": {
      "needs_background": "light"
     },
     "output_type": "display_data"
    },
    {
     "data": {
      "image/png": "[encoded data removed]",
      "text/plain": [
       "<Figure size 360x360 with 1 Axes>"
      ]
     },
     "metadata": {
      "needs_background": "light"
     },
     "output_type": "display_data"
    }
   ],
   "source": [
    "plt.scatter((y_test1 - y_pred1), y_test1)\n",
    "plt.title('Errors versus actuals model 3')\n",
    "plt.figure(figsize=(5,5))\n",
    "plt.title('Predicted versus True Values')\n",
    "plt.xlabel('Predicted Values')\n",
    "plt.ylabel('True Values')\n",
    "plt.scatter(y_test1,y_pred1)"
   ]
  },
  {
   "cell_type": "markdown",
   "metadata": {},
   "source": [
    "Model 4"
   ]
  },
  {
   "cell_type": "code",
   "execution_count": 38,
   "metadata": {},
   "outputs": [],
   "source": [
    "features=['total_labor_force_basic_ed','total_labor_force_intermediate_ed','total_labor_force_advanced_ed']\n",
    "target='unemployed_advanced_ed'\n",
    "X = df[features]\n",
    "\n",
    "scaler = MinMaxScaler()\n",
    "scaler.fit(X)\n",
    "X_scaled=scaler.transform(X)\n",
    "\n",
    "scaler = preprocessing.StandardScaler().fit(X)\n",
    "X_scaled2=scaler.transform(X)\n",
    "\n",
    "y= df[target]"
   ]
  },
  {
   "cell_type": "code",
   "execution_count": 41,
   "metadata": {},
   "outputs": [
    {
     "name": "stderr",
     "output_type": "stream",
     "text": [
      "/home/bcarter/anaconda3/lib/python3.6/site-packages/scipy/stats/stats.py:1394: UserWarning: kurtosistest only valid for n>=20 ... continuing anyway, n=16\n",
      "  \"anyway, n=%i\" % int(n))\n"
     ]
    }
   ],
   "source": [
    "rmse_model4,model4_summary,y_test4,y_train4,y_pred4,y_preds4,r_squared4=linear_model(X,y)"
   ]
  },
  {
   "cell_type": "code",
   "execution_count": 44,
   "metadata": {},
   "outputs": [
    {
     "name": "stdout",
     "output_type": "stream",
     "text": [
      "R**2:  0.975058666801536\n",
      "Model 3 RSME:  0.8301182386958165\n",
      "                            OLS Regression Results                            \n",
      "==============================================================================\n",
      "Dep. Variable:      employed_industry   R-squared:                       0.975\n",
      "Model:                            OLS   Adj. R-squared:                  0.969\n",
      "Method:                 Least Squares   F-statistic:                     156.4\n",
      "Date:                Fri, 15 Feb 2019   Prob (F-statistic):           6.98e-10\n",
      "Time:                        08:45:24   Log-Likelihood:                -4.1304\n",
      "No. Observations:                  16   AIC:                             16.26\n",
      "Df Residuals:                      12   BIC:                             19.35\n",
      "Df Model:                           3                                         \n",
      "Covariance Type:            nonrobust                                         \n",
      "==============================================================================\n",
      "                 coef    std err          t      P>|t|      [0.025      0.975]\n",
      "------------------------------------------------------------------------------\n",
      "const         20.7064      0.090    228.992      0.000      20.509      20.903\n",
      "x1            -1.3526      0.187     -7.236      0.000      -1.760      -0.945\n",
      "x2             2.4490      0.338      7.237      0.000       1.712       3.186\n",
      "x3            -1.7061      0.421     -4.050      0.002      -2.624      -0.788\n",
      "==============================================================================\n",
      "Omnibus:                        0.916   Durbin-Watson:                   2.276\n",
      "Prob(Omnibus):                  0.632   Jarque-Bera (JB):                0.853\n",
      "Skew:                           0.414   Prob(JB):                        0.653\n",
      "Kurtosis:                       2.230   Cond. No.                         9.85\n",
      "==============================================================================\n",
      "\n",
      "Warnings:\n",
      "[1] Standard Errors assume that the covariance matrix of the errors is correctly specified.\n"
     ]
    }
   ],
   "source": [
    "print('R**2: ', r_squared3)\n",
    "print('Model 3 RSME: ', rmse_model3)\n",
    "print(model3_summary)"
   ]
  },
  {
   "cell_type": "code",
   "execution_count": 45,
   "metadata": {},
   "outputs": [
    {
     "data": {
      "text/plain": [
       "<matplotlib.collections.PathCollection at 0x7fe35071ae48>"
      ]
     },
     "execution_count": 45,
     "metadata": {},
     "output_type": "execute_result"
    },
    {
     "data": {
      "image/png": "[encoded data removed]",
      "text/plain": [
       "<Figure size 432x288 with 1 Axes>"
      ]
     },
     "metadata": {
      "needs_background": "light"
     },
     "output_type": "display_data"
    },
    {
     "data": {
      "image/png": "[encoded data removed]",
      "text/plain": [
       "<Figure size 360x360 with 1 Axes>"
      ]
     },
     "metadata": {
      "needs_background": "light"
     },
     "output_type": "display_data"
    }
   ],
   "source": [
    "plt.scatter((y_test1 - y_pred1), y_test1)\n",
    "plt.title('Errors versus actuals model 4')\n",
    "plt.figure(figsize=(5,5))\n",
    "plt.title('Predicted versus True Values')\n",
    "plt.xlabel('Predicted Values')\n",
    "plt.ylabel('True Values')\n",
    "plt.scatter(y_test1,y_pred1)"
   ]
  },
  {
   "cell_type": "code",
   "execution_count": null,
   "metadata": {},
   "outputs": [],
   "source": []
  },
  {
   "cell_type": "code",
   "execution_count": null,
   "metadata": {},
   "outputs": [],
   "source": []
  }
 ],
 "metadata": {
  "kernelspec": {
   "display_name": "Python 3",
   "language": "python",
   "name": "python3"
  },
  "language_info": {
   "codemirror_mode": {
    "name": "ipython",
    "version": 3
   },
   "file_extension": ".py",
   "mimetype": "text/x-python",
   "name": "python",
   "nbconvert_exporter": "python",
   "pygments_lexer": "ipython3",
   "version": "3.6.6"
  }
 },
 "nbformat": 4,
 "nbformat_minor": 2
}
